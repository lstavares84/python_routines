{
 "cells": [
  {
   "cell_type": "code",
   "execution_count": 1,
   "metadata": {},
   "outputs": [
    {
     "name": "stdout",
     "output_type": "stream",
     "text": [
      "Defaulting to user installation because normal site-packages is not writeable\n",
      "Collecting pyvis\n",
      "  Downloading pyvis-0.3.2-py3-none-any.whl (756 kB)\n",
      "\u001b[2K     \u001b[90m━━━━━━━━━━━━━━━━━━━━━━━━━━━━━━━━━━━━━━━\u001b[0m \u001b[32m756.0/756.0 kB\u001b[0m \u001b[31m4.8 MB/s\u001b[0m eta \u001b[36m0:00:00\u001b[0m00:01\u001b[0m00:01\u001b[0m\n",
      "\u001b[?25hRequirement already satisfied: ipython>=5.3.0 in /usr/lib/python3/dist-packages (from pyvis) (8.14.0)\n",
      "Requirement already satisfied: jinja2>=2.9.6 in /usr/lib/python3/dist-packages (from pyvis) (3.1.2)\n",
      "Collecting jsonpickle>=1.4.1 (from pyvis)\n",
      "  Obtaining dependency information for jsonpickle>=1.4.1 from https://files.pythonhosted.org/packages/d3/25/6e0a450430b7aa194b0f515f64820fc619314faa289458b7dfca4a026114/jsonpickle-3.0.2-py3-none-any.whl.metadata\n",
      "  Downloading jsonpickle-3.0.2-py3-none-any.whl.metadata (7.5 kB)\n",
      "Requirement already satisfied: networkx>=1.11 in /usr/lib/python3/dist-packages (from pyvis) (2.8.8)\n",
      "Requirement already satisfied: backcall in /usr/lib/python3/dist-packages (from ipython>=5.3.0->pyvis) (0.2.0)\n",
      "Requirement already satisfied: decorator in /usr/lib/python3/dist-packages (from ipython>=5.3.0->pyvis) (5.1.1)\n",
      "Requirement already satisfied: jedi>=0.16 in /usr/lib/python3/dist-packages (from ipython>=5.3.0->pyvis) (0.18.2)\n",
      "Requirement already satisfied: matplotlib-inline in /usr/lib/python3/dist-packages (from ipython>=5.3.0->pyvis) (0.1.6)\n",
      "Requirement already satisfied: pickleshare in /usr/lib/python3/dist-packages (from ipython>=5.3.0->pyvis) (0.7.5)\n",
      "Requirement already satisfied: prompt-toolkit!=3.0.37,<3.1.0,>=3.0.30 in /usr/lib/python3/dist-packages (from ipython>=5.3.0->pyvis) (3.0.39)\n",
      "Requirement already satisfied: pygments>=2.4.0 in /usr/lib/python3/dist-packages (from ipython>=5.3.0->pyvis) (2.15.1)\n",
      "Requirement already satisfied: stack-data in /usr/lib/python3/dist-packages (from ipython>=5.3.0->pyvis) (0.6.2)\n",
      "Requirement already satisfied: traitlets>=5 in /usr/lib/python3/dist-packages (from ipython>=5.3.0->pyvis) (5.5.0)\n",
      "Requirement already satisfied: pexpect>4.3 in /usr/lib/python3/dist-packages (from ipython>=5.3.0->pyvis) (4.8.0)\n",
      "Requirement already satisfied: asttokens>=2.1.0 in /usr/lib/python3/dist-packages (from stack-data->ipython>=5.3.0->pyvis) (2.2.1)\n",
      "Requirement already satisfied: executing>=1.2.0 in /usr/lib/python3/dist-packages (from stack-data->ipython>=5.3.0->pyvis) (1.2.0)\n",
      "Requirement already satisfied: pure-eval in /usr/lib/python3/dist-packages (from stack-data->ipython>=5.3.0->pyvis) (0.0.0)\n",
      "Downloading jsonpickle-3.0.2-py3-none-any.whl (40 kB)\n",
      "\u001b[2K   \u001b[90m━━━━━━━━━━━━━━━━━━━━━━━━━━━━━━━━━━━━━━━━\u001b[0m \u001b[32m40.7/40.7 kB\u001b[0m \u001b[31m8.5 MB/s\u001b[0m eta \u001b[36m0:00:00\u001b[0m\n",
      "\u001b[?25hInstalling collected packages: jsonpickle, pyvis\n",
      "Successfully installed jsonpickle-3.0.2 pyvis-0.3.2\n"
     ]
    }
   ],
   "source": [
    "!pip install pyvis"
   ]
  },
  {
   "cell_type": "code",
   "execution_count": 2,
   "metadata": {},
   "outputs": [
    {
     "data": {
      "text/html": [
       "<div>\n",
       "<style scoped>\n",
       "    .dataframe tbody tr th:only-of-type {\n",
       "        vertical-align: middle;\n",
       "    }\n",
       "\n",
       "    .dataframe tbody tr th {\n",
       "        vertical-align: top;\n",
       "    }\n",
       "\n",
       "    .dataframe thead th {\n",
       "        text-align: right;\n",
       "    }\n",
       "</style>\n",
       "<table border=\"1\" class=\"dataframe\">\n",
       "  <thead>\n",
       "    <tr style=\"text-align: right;\">\n",
       "      <th></th>\n",
       "      <th>uint32_from_stop_id</th>\n",
       "      <th>uint32_to_stop_id</th>\n",
       "      <th>uint32_min_transfer_time</th>\n",
       "    </tr>\n",
       "  </thead>\n",
       "  <tbody>\n",
       "    <tr>\n",
       "      <th>0</th>\n",
       "      <td>1629</td>\n",
       "      <td>1630</td>\n",
       "      <td>72</td>\n",
       "    </tr>\n",
       "    <tr>\n",
       "      <th>1</th>\n",
       "      <td>1629</td>\n",
       "      <td>1822</td>\n",
       "      <td>109</td>\n",
       "    </tr>\n",
       "    <tr>\n",
       "      <th>2</th>\n",
       "      <td>1629</td>\n",
       "      <td>2509</td>\n",
       "      <td>0</td>\n",
       "    </tr>\n",
       "    <tr>\n",
       "      <th>3</th>\n",
       "      <td>1629</td>\n",
       "      <td>2510</td>\n",
       "      <td>72</td>\n",
       "    </tr>\n",
       "    <tr>\n",
       "      <th>4</th>\n",
       "      <td>1630</td>\n",
       "      <td>1629</td>\n",
       "      <td>72</td>\n",
       "    </tr>\n",
       "    <tr>\n",
       "      <th>...</th>\n",
       "      <td>...</td>\n",
       "      <td>...</td>\n",
       "      <td>...</td>\n",
       "    </tr>\n",
       "    <tr>\n",
       "      <th>2422</th>\n",
       "      <td>6129304</td>\n",
       "      <td>6129305</td>\n",
       "      <td>0</td>\n",
       "    </tr>\n",
       "    <tr>\n",
       "      <th>2423</th>\n",
       "      <td>6129305</td>\n",
       "      <td>1757</td>\n",
       "      <td>180</td>\n",
       "    </tr>\n",
       "    <tr>\n",
       "      <th>2424</th>\n",
       "      <td>6129305</td>\n",
       "      <td>2435</td>\n",
       "      <td>180</td>\n",
       "    </tr>\n",
       "    <tr>\n",
       "      <th>2425</th>\n",
       "      <td>6129305</td>\n",
       "      <td>1166839</td>\n",
       "      <td>132</td>\n",
       "    </tr>\n",
       "    <tr>\n",
       "      <th>2426</th>\n",
       "      <td>6129305</td>\n",
       "      <td>6129304</td>\n",
       "      <td>0</td>\n",
       "    </tr>\n",
       "  </tbody>\n",
       "</table>\n",
       "<p>2427 rows × 3 columns</p>\n",
       "</div>"
      ],
      "text/plain": [
       "      uint32_from_stop_id  uint32_to_stop_id  uint32_min_transfer_time\n",
       "0                    1629               1630                        72\n",
       "1                    1629               1822                       109\n",
       "2                    1629               2509                         0\n",
       "3                    1629               2510                        72\n",
       "4                    1630               1629                        72\n",
       "...                   ...                ...                       ...\n",
       "2422              6129304            6129305                         0\n",
       "2423              6129305               1757                       180\n",
       "2424              6129305               2435                       180\n",
       "2425              6129305            1166839                       132\n",
       "2426              6129305            6129304                         0\n",
       "\n",
       "[2427 rows x 3 columns]"
      ]
     },
     "execution_count": 2,
     "metadata": {},
     "output_type": "execute_result"
    }
   ],
   "source": [
    "import pandas as pd\n",
    "\n",
    "# IMPORTAÇÃO DOS DADOS USANDO O VS CODE\n",
    "df = pd.read_csv(\"c.csv\")\n",
    "df\n",
    "\n",
    "#IMPORTAÇÃO DOS DADOS USANDO O GOOGLE DRIVE\n",
    "# from google.colab import files\n",
    "# uploaded = files.upload()\n",
    "\n",
    "# import io\n",
    "# df = pd.read_csv(io.BytesIO(uploaded['c.csv']))\n",
    "# df"
   ]
  },
  {
   "cell_type": "code",
   "execution_count": 3,
   "metadata": {},
   "outputs": [
    {
     "name": "stdout",
     "output_type": "stream",
     "text": [
      "Caminho mais curto entre 1629 e 1757: ['1629', '2510', '2260', '2467', '2285', '2313', '1847', '1757']\n",
      "Tempo mínimo de transferência: 733 minutos\n"
     ]
    }
   ],
   "source": [
    "import networkx as nx\n",
    "from pyvis.network import Network\n",
    "\n",
    "# Converta as colunas relevantes do DataFrame para tipos de dados compatíveis com JSON\n",
    "df['uint32_from_stop_id'] = df['uint32_from_stop_id'].astype(str)\n",
    "df['uint32_to_stop_id'] = df['uint32_to_stop_id'].astype(str)\n",
    "\n",
    "# Crie um grafo direcionado (DiGraph) usando NetworkX\n",
    "G = nx.DiGraph()\n",
    "\n",
    "# Adicione arestas (edges) ao grafo com os tempos de transferência como pesos\n",
    "for index, row in df.iterrows():\n",
    "    from_stop = row['uint32_from_stop_id']\n",
    "    to_stop = row['uint32_to_stop_id']\n",
    "    min_transfer_time = row['uint32_min_transfer_time']\n",
    "    G.add_edge(from_stop, to_stop, weight=min_transfer_time)\n",
    "\n",
    "# Especifica a parada de origem e de destino\n",
    "origem = '1629'  # Substitua pela parada de origem desejada\n",
    "destino = '1757'  # Substitua pela parada de destino desejada\n",
    "\n",
    "# Calcula o caminho mais curto usando o algoritmo de Dijkstra\n",
    "caminho_mais_curto = nx.shortest_path(G, source=origem, target=destino, weight='weight')\n",
    "tempo_min_transferencia = nx.shortest_path_length(G, source=origem, target=destino, weight='weight')\n",
    "\n",
    "print(f\"Caminho mais curto entre {origem} e {destino}: {caminho_mais_curto}\")\n",
    "print(f\"Tempo mínimo de transferência: {tempo_min_transferencia} minutos\")"
   ]
  },
  {
   "cell_type": "code",
   "execution_count": 4,
   "metadata": {},
   "outputs": [],
   "source": [
    "G = nx.DiGraph()\n",
    "nt = Network('500px', '500px')\n",
    "for index, row in df.iterrows():\n",
    "    from_stop = row[\"uint32_from_stop_id\"]\n",
    "    to_stop = row[\"uint32_to_stop_id\"]\n",
    "    G.add_edge(from_stop, to_stop)\n",
    "\n",
    "net = Network(directed=True)\n",
    "\n",
    "\n",
    "for node in G.nodes():\n",
    "    net.add_node(str(node))\n",
    "\n",
    "for edge in G.edges():\n",
    "    net.add_edge(str(edge[0]), str(edge[1]))\n",
    "\n",
    "net.save_graph(\"paris_metro.html\")"
   ]
  },
  {
   "cell_type": "code",
   "execution_count": 5,
   "metadata": {},
   "outputs": [
    {
     "name": "stdout",
     "output_type": "stream",
     "text": [
      "Empty DataFrame\n",
      "Columns: [uint32_from_stop_id, uint32_to_stop_id, uint32_min_transfer_time]\n",
      "Index: []\n"
     ]
    }
   ],
   "source": [
    "# Suponha que df seja o seu DataFrame\n",
    "\n",
    "# Use a função de filtro para selecionar as instâncias com uint32_from_stop_id igual a 1630\n",
    "instancias_com_1630 = df[df['uint32_from_stop_id'] == 1630]\n",
    "print(instancias_com_1630)"
   ]
  }
 ],
 "metadata": {
  "kernelspec": {
   "display_name": "Python 3",
   "language": "python",
   "name": "python3"
  },
  "language_info": {
   "codemirror_mode": {
    "name": "ipython",
    "version": 3
   },
   "file_extension": ".py",
   "mimetype": "text/x-python",
   "name": "python",
   "nbconvert_exporter": "python",
   "pygments_lexer": "ipython3",
   "version": "3.11.4"
  },
  "orig_nbformat": 4
 },
 "nbformat": 4,
 "nbformat_minor": 2
}
